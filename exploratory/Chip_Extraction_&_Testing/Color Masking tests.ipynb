{
 "cells": [
  {
   "cell_type": "code",
   "execution_count": 7,
   "metadata": {
    "ExecuteTime": {
     "end_time": "2019-09-13T19:32:49.289885Z",
     "start_time": "2019-09-13T19:32:46.315519Z"
    }
   },
   "outputs": [],
   "source": [
    "import cv2\n",
    "import matplotlib.pyplot as plt"
   ]
  },
  {
   "cell_type": "markdown",
   "metadata": {},
   "source": [
    "#### Convert  a few images to LAB and test different filters."
   ]
  },
  {
   "cell_type": "code",
   "execution_count": 14,
   "metadata": {
    "ExecuteTime": {
     "end_time": "2019-09-13T19:34:28.037137Z",
     "start_time": "2019-09-13T19:34:28.032520Z"
    }
   },
   "outputs": [],
   "source": [
    "img = r'C:/Users/604572/Desktop/Sea Lion Counting/results/bbox_chips/pups/41_pups_1.png'"
   ]
  },
  {
   "cell_type": "code",
   "execution_count": 15,
   "metadata": {
    "ExecuteTime": {
     "end_time": "2019-09-13T19:34:28.689134Z",
     "start_time": "2019-09-13T19:34:28.682105Z"
    }
   },
   "outputs": [],
   "source": [
    "img1 = cv2.imread(img)"
   ]
  },
  {
   "cell_type": "code",
   "execution_count": 17,
   "metadata": {
    "ExecuteTime": {
     "end_time": "2019-09-13T19:35:32.674105Z",
     "start_time": "2019-09-13T19:35:32.371438Z"
    }
   },
   "outputs": [],
   "source": [
    "img1_lab = cv2.cvtColor(img1, cv2.COLOR_BGR2LAB)"
   ]
  },
  {
   "cell_type": "code",
   "execution_count": null,
   "metadata": {},
   "outputs": [],
   "source": [
    "def eval_chip_size(lion_type:str, chip_size:int):\n",
    "\n",
    "    fig = plt.figure(figsize=(12,12))\n",
    "    num_chips = len(coordinates_df[lion_type][0])\n",
    "    try:\n",
    "        for i in range(len(coordinates_df[lion_type][0])):\n",
    "            ax = fig.add_subplot(num_chips/10+1,10,i+1)\n",
    "            plt.xticks([]), plt.yticks([])\n",
    "            plt.imshow(get_chip(coordinates_df[lion_type][0][i], image_2, chip_size))\n",
    "    except ValueError:\n",
    "        pass"
   ]
  },
  {
   "cell_type": "code",
   "execution_count": null,
   "metadata": {},
   "outputs": [],
   "source": []
  }
 ],
 "metadata": {
  "hide_input": false,
  "kernelspec": {
   "display_name": "MaskRCNN",
   "language": "python",
   "name": "maskrcnn"
  },
  "language_info": {
   "codemirror_mode": {
    "name": "ipython",
    "version": 3
   },
   "file_extension": ".py",
   "mimetype": "text/x-python",
   "name": "python",
   "nbconvert_exporter": "python",
   "pygments_lexer": "ipython3",
   "version": "3.6.9"
  }
 },
 "nbformat": 4,
 "nbformat_minor": 2
}
