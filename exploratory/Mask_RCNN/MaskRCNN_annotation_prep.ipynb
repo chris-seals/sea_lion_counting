{
 "cells": [
  {
   "cell_type": "code",
   "execution_count": 1,
   "metadata": {
    "ExecuteTime": {
     "end_time": "2019-10-25T15:49:23.209450Z",
     "start_time": "2019-10-25T15:49:22.390748Z"
    }
   },
   "outputs": [],
   "source": [
    "import pandas as pd"
   ]
  },
  {
   "cell_type": "code",
   "execution_count": 2,
   "metadata": {
    "ExecuteTime": {
     "end_time": "2019-10-25T15:49:23.227461Z",
     "start_time": "2019-10-25T15:49:23.210447Z"
    }
   },
   "outputs": [],
   "source": [
    "coord_df = pd.read_csv('../../results/coordinates.csv', index_col=0)"
   ]
  },
  {
   "cell_type": "code",
   "execution_count": 3,
   "metadata": {
    "ExecuteTime": {
     "end_time": "2019-10-25T15:49:23.234416Z",
     "start_time": "2019-10-25T15:49:23.229413Z"
    }
   },
   "outputs": [],
   "source": [
    "filenames = [str(x)+'.jpg' for x in range(41,51)]\n",
    "class_names = ['adult_females', 'adult_males', 'juveniles', 'pups', 'subadult_males']\n",
    "chip_sizes = {\n",
    "    'adult_females':80,\n",
    "    'adult_males':120,\n",
    "    'juveniles':60,\n",
    "    'pups':40,\n",
    "    'subadult_males':100\n",
    "}"
   ]
  },
  {
   "cell_type": "code",
   "execution_count": 7,
   "metadata": {
    "ExecuteTime": {
     "end_time": "2019-10-25T16:04:30.735891Z",
     "start_time": "2019-10-25T16:04:30.724924Z"
    }
   },
   "outputs": [
    {
     "data": {
      "text/html": [
       "<div>\n",
       "<style scoped>\n",
       "    .dataframe tbody tr th:only-of-type {\n",
       "        vertical-align: middle;\n",
       "    }\n",
       "\n",
       "    .dataframe tbody tr th {\n",
       "        vertical-align: top;\n",
       "    }\n",
       "\n",
       "    .dataframe thead th {\n",
       "        text-align: right;\n",
       "    }\n",
       "</style>\n",
       "<table border=\"1\" class=\"dataframe\">\n",
       "  <thead>\n",
       "    <tr style=\"text-align: right;\">\n",
       "      <th></th>\n",
       "      <th>adult_females</th>\n",
       "      <th>adult_males</th>\n",
       "      <th>juveniles</th>\n",
       "      <th>pups</th>\n",
       "      <th>subadult_males</th>\n",
       "    </tr>\n",
       "  </thead>\n",
       "  <tbody>\n",
       "    <tr>\n",
       "      <td>41.jpg</td>\n",
       "      <td>[(2959, 2560), (3048, 2549), (2981, 2535), (30...</td>\n",
       "      <td>[(2749, 2516), (3110, 2349), (2293, 2315), (25...</td>\n",
       "      <td>[(2922, 2514), (3081, 2420), (3016, 2240), (29...</td>\n",
       "      <td>[(2977, 2575), (2833, 2530), (2913, 2520), (29...</td>\n",
       "      <td>[]</td>\n",
       "    </tr>\n",
       "    <tr>\n",
       "      <td>42.jpg</td>\n",
       "      <td>[(3832, 1686), (4319, 1658), (4199, 1642), (43...</td>\n",
       "      <td>[(4940, 2506), (4974, 1929), (4816, 1883), (44...</td>\n",
       "      <td>[(4175, 546)]</td>\n",
       "      <td>[]</td>\n",
       "      <td>[(3618, 1715), (4011, 1641), (4337, 1605), (36...</td>\n",
       "    </tr>\n",
       "    <tr>\n",
       "      <td>43.jpg</td>\n",
       "      <td>[(3319, 3622), (3203, 3606), (3279, 3572), (31...</td>\n",
       "      <td>[(3365, 3405), (3295, 3267), (2636, 3115), (28...</td>\n",
       "      <td>[(3168, 3552), (3072, 3502), (3408, 3351), (34...</td>\n",
       "      <td>[(3268, 3585), (3029, 3513), (2964, 3468), (30...</td>\n",
       "      <td>[(2999, 3583), (3802, 3126), (1817, 2211), (27...</td>\n",
       "    </tr>\n",
       "    <tr>\n",
       "      <td>44.jpg</td>\n",
       "      <td>[(3302, 2213), (3256, 2171), (3427, 2165), (34...</td>\n",
       "      <td>[(3360, 2145), (3600, 1866), (3068, 1494)]</td>\n",
       "      <td>[(3273, 2242), (3273, 2221), (3326, 2206), (31...</td>\n",
       "      <td>[]</td>\n",
       "      <td>[(3375, 1740), (2950, 1240)]</td>\n",
       "    </tr>\n",
       "    <tr>\n",
       "      <td>45.jpg</td>\n",
       "      <td>[(2266, 2665), (2151, 2132), (2046, 2037), (20...</td>\n",
       "      <td>[(2633, 3200), (2108, 2048), (2546, 1423), (25...</td>\n",
       "      <td>[(2199, 1917), (1756, 1874), (1725, 1868), (20...</td>\n",
       "      <td>[]</td>\n",
       "      <td>[(1711, 1699), (1549, 1650), (2716, 1480), (16...</td>\n",
       "    </tr>\n",
       "  </tbody>\n",
       "</table>\n",
       "</div>"
      ],
      "text/plain": [
       "                                            adult_females  \\\n",
       "41.jpg  [(2959, 2560), (3048, 2549), (2981, 2535), (30...   \n",
       "42.jpg  [(3832, 1686), (4319, 1658), (4199, 1642), (43...   \n",
       "43.jpg  [(3319, 3622), (3203, 3606), (3279, 3572), (31...   \n",
       "44.jpg  [(3302, 2213), (3256, 2171), (3427, 2165), (34...   \n",
       "45.jpg  [(2266, 2665), (2151, 2132), (2046, 2037), (20...   \n",
       "\n",
       "                                              adult_males  \\\n",
       "41.jpg  [(2749, 2516), (3110, 2349), (2293, 2315), (25...   \n",
       "42.jpg  [(4940, 2506), (4974, 1929), (4816, 1883), (44...   \n",
       "43.jpg  [(3365, 3405), (3295, 3267), (2636, 3115), (28...   \n",
       "44.jpg         [(3360, 2145), (3600, 1866), (3068, 1494)]   \n",
       "45.jpg  [(2633, 3200), (2108, 2048), (2546, 1423), (25...   \n",
       "\n",
       "                                                juveniles  \\\n",
       "41.jpg  [(2922, 2514), (3081, 2420), (3016, 2240), (29...   \n",
       "42.jpg                                      [(4175, 546)]   \n",
       "43.jpg  [(3168, 3552), (3072, 3502), (3408, 3351), (34...   \n",
       "44.jpg  [(3273, 2242), (3273, 2221), (3326, 2206), (31...   \n",
       "45.jpg  [(2199, 1917), (1756, 1874), (1725, 1868), (20...   \n",
       "\n",
       "                                                     pups  \\\n",
       "41.jpg  [(2977, 2575), (2833, 2530), (2913, 2520), (29...   \n",
       "42.jpg                                                 []   \n",
       "43.jpg  [(3268, 3585), (3029, 3513), (2964, 3468), (30...   \n",
       "44.jpg                                                 []   \n",
       "45.jpg                                                 []   \n",
       "\n",
       "                                           subadult_males  \n",
       "41.jpg                                                 []  \n",
       "42.jpg  [(3618, 1715), (4011, 1641), (4337, 1605), (36...  \n",
       "43.jpg  [(2999, 3583), (3802, 3126), (1817, 2211), (27...  \n",
       "44.jpg                       [(3375, 1740), (2950, 1240)]  \n",
       "45.jpg  [(1711, 1699), (1549, 1650), (2716, 1480), (16...  "
      ]
     },
     "execution_count": 7,
     "metadata": {},
     "output_type": "execute_result"
    }
   ],
   "source": [
    "coord_df.head()"
   ]
  },
  {
   "cell_type": "code",
   "execution_count": 5,
   "metadata": {
    "ExecuteTime": {
     "end_time": "2019-10-25T15:49:33.457241Z",
     "start_time": "2019-10-25T15:49:33.252050Z"
    }
   },
   "outputs": [],
   "source": [
    "from pascal_voc_writer import Writer\n",
    "import cv2\n",
    "import matplotlib.pyplot as plt\n",
    "from ast import literal_eval"
   ]
  },
  {
   "cell_type": "code",
   "execution_count": 6,
   "metadata": {
    "ExecuteTime": {
     "end_time": "2019-10-25T15:49:38.724946Z",
     "start_time": "2019-10-25T15:49:38.721949Z"
    }
   },
   "outputs": [],
   "source": [
    "image_path = r'../../data/TrainSmall2/Train/'"
   ]
  },
  {
   "cell_type": "code",
   "execution_count": 79,
   "metadata": {},
   "outputs": [],
   "source": [
    "# This code creates the xml annotation files\n",
    "\n",
    "# for ix, row in coord_df.iterrows():\n",
    "#     image = image_path + ix\n",
    "#     image_array = cv2.imread(image)\n",
    "#     annot_writer = Writer(image, image_array.shape[1], image_array.shape[0])\n",
    "#     for sl_type in class_names:\n",
    "#         for pair in literal_eval(row[sl_type]):\n",
    "#             #print(pair)\n",
    "#             center_y, center_x = pair[0], pair[1]\n",
    "#             x_min = int(center_x - chip_sizes[sl_type]/2)\n",
    "#             x_max = int(center_x + chip_sizes[sl_type]/2)\n",
    "#             y_min = int(center_y - chip_sizes[sl_type]/2)\n",
    "#             y_max = int(center_y + chip_sizes[sl_type]/2)\n",
    "#             annot_writer.addObject(sl_type, x_min, y_min, x_max, y_max)\n",
    "#             #testing_image = image_array[x_min:x_max, y_min:y_max]\n",
    "#             #plt.imshow(testing_image)\n",
    "#     annot_writer.save('./sea_lions/annots/'+ix.split('.')[0]+'.xml')\n",
    "#     #print(annot_writer)\n",
    "        "
   ]
  },
  {
   "cell_type": "code",
   "execution_count": null,
   "metadata": {},
   "outputs": [],
   "source": [
    "center_points = {}\n",
    "for ix, row in coord_df.iterrows():\n",
    "    \n",
    "center_points = {}"
   ]
  },
  {
   "cell_type": "code",
   "execution_count": 19,
   "metadata": {
    "ExecuteTime": {
     "end_time": "2019-10-31T18:26:45.412961Z",
     "start_time": "2019-10-31T18:26:45.409958Z"
    }
   },
   "outputs": [],
   "source": [
    "filename = r'C:\\Users\\604572\\Desktop\\Sea Lion Counting\\results\\smaller_bbox_chips\\annot\\135.xml'"
   ]
  },
  {
   "cell_type": "code",
   "execution_count": 35,
   "metadata": {
    "ExecuteTime": {
     "end_time": "2019-10-31T18:35:44.177674Z",
     "start_time": "2019-10-31T18:35:44.170675Z"
    }
   },
   "outputs": [],
   "source": [
    "from xml.etree import ElementTree\n",
    "\n",
    "def extract_boxes(filename):\n",
    "    # load and parse the file\n",
    "    tree = ElementTree.parse(filename)\n",
    "    # get the root of the document\n",
    "    root = tree.getroot()\n",
    "    # extract each bounding box\n",
    "    boxes = list()\n",
    "    for box in root.findall('.//object'):\n",
    "        xmin = int(box.find('bndbox/xmin').text)\n",
    "        ymin = int(box.find('bndbox/ymin').text)\n",
    "        xmax = int(box.find('bndbox/xmax').text)\n",
    "        ymax = int(box.find('bndbox/ymax').text)\n",
    "        name = box.find('name').text\n",
    "        coors = [xmin, ymin, xmax, ymax, name]\n",
    "        boxes.append(coors)\n",
    "    # extract image dimensions\n",
    "    width = int(root.find('.//size/width').text)\n",
    "    height = int(root.find('.//size/height').text)\n",
    "    return boxes, width, height"
   ]
  },
  {
   "cell_type": "code",
   "execution_count": 36,
   "metadata": {
    "ExecuteTime": {
     "end_time": "2019-10-31T18:35:44.508073Z",
     "start_time": "2019-10-31T18:35:44.500040Z"
    }
   },
   "outputs": [
    {
     "data": {
      "text/plain": [
       "([[597, 606, 677, 686, 'adult_females'],\n",
       "  [576, 643, 656, 723, 'adult_females'],\n",
       "  [452, 352, 532, 432, 'adult_females'],\n",
       "  [444, 644, 524, 724, 'adult_females'],\n",
       "  [375, 633, 455, 713, 'adult_females'],\n",
       "  [336, 649, 416, 729, 'adult_females'],\n",
       "  [326, 392, 406, 472, 'adult_females'],\n",
       "  [317, 162, 397, 242, 'adult_females'],\n",
       "  [308, 653, 388, 733, 'adult_females'],\n",
       "  [282, 55, 362, 135, 'adult_females'],\n",
       "  [275, 163, 355, 243, 'adult_females'],\n",
       "  [272, 486, 352, 566, 'adult_females'],\n",
       "  [265, 104, 345, 184, 'adult_females'],\n",
       "  [257, 136, 337, 216, 'adult_females'],\n",
       "  [253, 158, 333, 238, 'adult_females'],\n",
       "  [246, 409, 326, 489, 'adult_females'],\n",
       "  [244, 108, 324, 188, 'adult_females'],\n",
       "  [236, 136, 316, 216, 'adult_females'],\n",
       "  [230, 438, 310, 518, 'adult_females'],\n",
       "  [230, 60, 310, 140, 'adult_females'],\n",
       "  [229, 326, 309, 406, 'adult_females'],\n",
       "  [197, 221, 277, 301, 'adult_females'],\n",
       "  [190, 285, 270, 365, 'adult_females'],\n",
       "  [154, 423, 234, 503, 'adult_females'],\n",
       "  [154, 119, 234, 199, 'adult_females'],\n",
       "  [152, 76, 232, 156, 'adult_females'],\n",
       "  [145, 131, 225, 211, 'adult_females'],\n",
       "  [139, 314, 219, 394, 'adult_females'],\n",
       "  [129, 364, 209, 444, 'adult_females'],\n",
       "  [123, 343, 203, 423, 'adult_females'],\n",
       "  [120, 150, 200, 230, 'adult_females'],\n",
       "  [104, 267, 184, 347, 'adult_females'],\n",
       "  [79, 314, 159, 394, 'adult_females'],\n",
       "  [57, 274, 137, 354, 'adult_females'],\n",
       "  [47, 153, 127, 233, 'adult_females'],\n",
       "  [38, 383, 118, 463, 'adult_females'],\n",
       "  [37, 254, 117, 334, 'adult_females'],\n",
       "  [30, 502, 110, 582, 'adult_females'],\n",
       "  [11, 239, 91, 319, 'adult_females'],\n",
       "  [6, 315, 86, 395, 'adult_females'],\n",
       "  [0, 189, 80, 269, 'adult_females'],\n",
       "  [444, 326, 504, 386, 'juveniles'],\n",
       "  [438, 295, 498, 355, 'juveniles'],\n",
       "  [384, 663, 444, 723, 'juveniles'],\n",
       "  [370, 405, 430, 465, 'juveniles'],\n",
       "  [364, 480, 424, 540, 'juveniles'],\n",
       "  [322, 129, 382, 189, 'juveniles'],\n",
       "  [269, 659, 329, 719, 'juveniles'],\n",
       "  [217, 498, 277, 558, 'juveniles'],\n",
       "  [200, 195, 260, 255, 'juveniles'],\n",
       "  [113, 433, 173, 493, 'juveniles'],\n",
       "  [46, 418, 106, 478, 'juveniles'],\n",
       "  [-1, 297, 59, 357, 'juveniles'],\n",
       "  [249, 261, 349, 361, 'subadult_males'],\n",
       "  [200, 99, 300, 199, 'subadult_males'],\n",
       "  [-26, 239, 74, 339, 'subadult_males']],\n",
       " 700,\n",
       " 700)"
      ]
     },
     "execution_count": 36,
     "metadata": {},
     "output_type": "execute_result"
    }
   ],
   "source": [
    "extract_boxes(r'C:\\Users\\604572\\Desktop\\Sea Lion Counting\\results\\smaller_bbox_chips\\annot\\135.xml')"
   ]
  },
  {
   "cell_type": "code",
   "execution_count": null,
   "metadata": {},
   "outputs": [],
   "source": []
  }
 ],
 "metadata": {
  "hide_input": false,
  "kernelspec": {
   "display_name": "MaskRCNN",
   "language": "python",
   "name": "maskrcnn"
  },
  "language_info": {
   "codemirror_mode": {
    "name": "ipython",
    "version": 3
   },
   "file_extension": ".py",
   "mimetype": "text/x-python",
   "name": "python",
   "nbconvert_exporter": "python",
   "pygments_lexer": "ipython3",
   "version": "3.6.9"
  }
 },
 "nbformat": 4,
 "nbformat_minor": 4
}
