{
 "cells": [
  {
   "cell_type": "markdown",
   "metadata": {},
   "source": [
    "## Input Preparation\n",
    "In this notebook, take directories of sea lion image chips and convert them to format ready for machine learning training."
   ]
  },
  {
   "cell_type": "code",
   "execution_count": 35,
   "metadata": {
    "ExecuteTime": {
     "end_time": "2019-09-24T17:33:51.802968Z",
     "start_time": "2019-09-24T17:33:51.796970Z"
    }
   },
   "outputs": [],
   "source": [
    "import cv2\n",
    "import pathlib\n",
    "import pickle\n",
    "import random"
   ]
  },
  {
   "cell_type": "markdown",
   "metadata": {},
   "source": [
    "##### Use pathlib to inspect files in the bbox_chips directory, and glob together one list of all the images"
   ]
  },
  {
   "cell_type": "code",
   "execution_count": 36,
   "metadata": {
    "ExecuteTime": {
     "end_time": "2019-09-24T17:33:52.331094Z",
     "start_time": "2019-09-24T17:33:51.806982Z"
    }
   },
   "outputs": [
    {
     "name": "stdout",
     "output_type": "stream",
     "text": [
      "Chip Folders:  \n",
      " --------------------------------------------------\n",
      "..\\..\\results\\bbox_chips\\adult_females\n",
      "..\\..\\results\\bbox_chips\\adult_males\n",
      "..\\..\\results\\bbox_chips\\juveniles\n",
      "..\\..\\results\\bbox_chips\\pups\n",
      "..\\..\\results\\bbox_chips\\subadult_males\n",
      "--------------------------------------------------\n",
      "Total image count is 43081\n"
     ]
    }
   ],
   "source": [
    "images_root = pathlib.Path('../../results/bbox_chips')\n",
    "print('Chip Folders: ', '\\n', '-' * 50)\n",
    "\n",
    "for item in images_root.iterdir():\n",
    "    print(item)\n",
    "    \n",
    "all_image_paths = list(images_root.glob('*/*'))\n",
    "all_image_paths = [str(path) for path in all_image_paths]\n",
    "\n",
    "random.seed(42)\n",
    "random.shuffle(all_image_paths)  # shuffle now for train test split later\n",
    "\n",
    "print('-' * 50)\n",
    "print(f'Total image count is {len(all_image_paths)}')"
   ]
  },
  {
   "cell_type": "markdown",
   "metadata": {},
   "source": [
    "##### Create label index codes. Get names from the folder directories."
   ]
  },
  {
   "cell_type": "code",
   "execution_count": 37,
   "metadata": {
    "ExecuteTime": {
     "end_time": "2019-09-24T17:33:52.343447Z",
     "start_time": "2019-09-24T17:33:52.334095Z"
    }
   },
   "outputs": [
    {
     "data": {
      "text/plain": [
       "{'adult_females': 0,\n",
       " 'adult_males': 1,\n",
       " 'juveniles': 2,\n",
       " 'pups': 3,\n",
       " 'subadult_males': 4}"
      ]
     },
     "execution_count": 37,
     "metadata": {},
     "output_type": "execute_result"
    }
   ],
   "source": [
    "label_names = sorted(item.name for item in images_root.glob('*/')\n",
    "                     if item.is_dir())\n",
    "label_to_index = dict((name, index) for index, name in enumerate(label_names))\n",
    "label_to_index"
   ]
  },
  {
   "cell_type": "markdown",
   "metadata": {},
   "source": [
    "##### Create labels for all chips"
   ]
  },
  {
   "cell_type": "code",
   "execution_count": 38,
   "metadata": {
    "ExecuteTime": {
     "end_time": "2019-09-24T17:33:52.842467Z",
     "start_time": "2019-09-24T17:33:52.348358Z"
    }
   },
   "outputs": [
    {
     "data": {
      "text/plain": [
       "[0, 2, 2, 0, 2, 0, 2, 1, 0, 0]"
      ]
     },
     "execution_count": 38,
     "metadata": {},
     "output_type": "execute_result"
    }
   ],
   "source": [
    "all_image_labels = [\n",
    "    label_to_index[pathlib.Path(path).parent.name] for path in all_image_paths\n",
    "]\n",
    "all_image_labels[0:10] # sample of the labels"
   ]
  },
  {
   "cell_type": "markdown",
   "metadata": {},
   "source": [
    "##### Read in each chip filename as an image array with OpenCV."
   ]
  },
  {
   "cell_type": "code",
   "execution_count": 39,
   "metadata": {
    "ExecuteTime": {
     "end_time": "2019-09-24T17:33:52.850466Z",
     "start_time": "2019-09-24T17:33:52.845441Z"
    }
   },
   "outputs": [],
   "source": [
    "#len(all_image_arrays),len(all_image_labels)"
   ]
  },
  {
   "cell_type": "code",
   "execution_count": 40,
   "metadata": {
    "ExecuteTime": {
     "end_time": "2019-09-24T17:33:52.862446Z",
     "start_time": "2019-09-24T17:33:52.852433Z"
    }
   },
   "outputs": [],
   "source": [
    "#all_image_arrays, bad_images = [], []"
   ]
  },
  {
   "cell_type": "code",
   "execution_count": 41,
   "metadata": {
    "ExecuteTime": {
     "end_time": "2019-09-24T17:33:52.883834Z",
     "start_time": "2019-09-24T17:33:52.866636Z"
    }
   },
   "outputs": [],
   "source": [
    "def img_to_array(img_path):\n",
    "    img = cv2.imread(str(img_path))\n",
    "    img = cv2.resize(img, (80,80))\n",
    "    img = cv2.cvtColor(img, cv2.COLOR_BGR2GRAY).ravel()\n",
    "    return img"
   ]
  },
  {
   "cell_type": "code",
   "execution_count": 42,
   "metadata": {
    "ExecuteTime": {
     "end_time": "2019-09-24T17:33:52.895844Z",
     "start_time": "2019-09-24T17:33:52.886834Z"
    }
   },
   "outputs": [],
   "source": [
    "# all_image_arrays, bad_images = [], []\n",
    "# for i in all_image_paths:\n",
    "#     try:\n",
    "#         image_array = img_to_array(i)\n",
    "#         all_image_arrays.append(image_array)\n",
    "#     except:\n",
    "#         print('bad image = ',str(i))\n",
    "#         bad_images.append(str(i))\n",
    "#         bad_img_index = all_image_paths.index(i)\n",
    "#         del all_image_labels[bad_img_index] # drop image label out of list for the bad image\n",
    "#         continue"
   ]
  },
  {
   "cell_type": "code",
   "execution_count": 43,
   "metadata": {
    "ExecuteTime": {
     "end_time": "2019-09-24T17:33:52.905868Z",
     "start_time": "2019-09-24T17:33:52.898877Z"
    }
   },
   "outputs": [],
   "source": [
    "#bad_images"
   ]
  },
  {
   "cell_type": "code",
   "execution_count": 44,
   "metadata": {
    "ExecuteTime": {
     "end_time": "2019-09-24T17:33:52.917883Z",
     "start_time": "2019-09-24T17:33:52.907839Z"
    }
   },
   "outputs": [],
   "source": [
    "## List comprehension wasn't catching errors so try traditional method\n",
    "#for i in all_image_paths:\n",
    "#    cv2.imread(str(i))\n",
    "    "
   ]
  },
  {
   "cell_type": "code",
   "execution_count": 45,
   "metadata": {
    "ExecuteTime": {
     "end_time": "2019-09-24T17:35:13.160511Z",
     "start_time": "2019-09-24T17:33:52.919839Z"
    }
   },
   "outputs": [],
   "source": [
    "all_image_arrays = [cv2.imread(str(i)) for i in all_image_paths\n",
    "                    ]  # Read each path in as an image array\n",
    "all_image_arrays = [cv2.resize(img, (80, 80)) for img in all_image_arrays\n",
    "                    ]  # Make each chip uniform in size\n",
    "all_image_arrays = [\n",
    "    cv2.cvtColor(i, cv2.COLOR_BGR2GRAY).ravel() for i in all_image_arrays\n",
    "]  # Convert each array to grayscale (one channel), and flatten out to a 1-d array"
   ]
  },
  {
   "cell_type": "markdown",
   "metadata": {},
   "source": [
    "##### Save image labels and image arrays to pickles for next step - machine learning model training and testing!"
   ]
  },
  {
   "cell_type": "code",
   "execution_count": 46,
   "metadata": {
    "ExecuteTime": {
     "end_time": "2019-09-24T17:35:15.088774Z",
     "start_time": "2019-09-24T17:35:13.165520Z"
    }
   },
   "outputs": [],
   "source": [
    "with open('image_labels.pkl', 'wb') as f:\n",
    "    pickle.dump(all_image_labels, f)\n",
    "with open('image_arrays.pkl', 'wb') as f:\n",
    "    pickle.dump(all_image_arrays, f)"
   ]
  },
  {
   "cell_type": "markdown",
   "metadata": {},
   "source": [
    "## Move onto next notebook - we will load these pkl files in to retrieve our labels and arrays."
   ]
  }
 ],
 "metadata": {
  "hide_input": false,
  "kernelspec": {
   "display_name": "MaskRCNN",
   "language": "python",
   "name": "maskrcnn"
  },
  "language_info": {
   "codemirror_mode": {
    "name": "ipython",
    "version": 3
   },
   "file_extension": ".py",
   "mimetype": "text/x-python",
   "name": "python",
   "nbconvert_exporter": "python",
   "pygments_lexer": "ipython3",
   "version": "3.6.9"
  }
 },
 "nbformat": 4,
 "nbformat_minor": 2
}
