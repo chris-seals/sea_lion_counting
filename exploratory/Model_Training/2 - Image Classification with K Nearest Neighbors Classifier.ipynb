{
 "cells": [
  {
   "cell_type": "markdown",
   "metadata": {},
   "source": [
    "## K-Nearest Neighbors Classifier Testing\n",
    "In this notebook, test a K-Nearest Neighbors classifier from scikit learn for image classification of the sea lion chips."
   ]
  },
  {
   "cell_type": "code",
   "execution_count": 1,
   "metadata": {
    "ExecuteTime": {
     "end_time": "2019-09-20T14:21:02.773136Z",
     "start_time": "2019-09-20T14:21:01.810557Z"
    }
   },
   "outputs": [],
   "source": [
    "import cv2\n",
    "import numpy as np\n",
    "import pathlib\n",
    "import pickle\n",
    "import random\n",
    "\n",
    "from sklearn.neighbors import KNeighborsClassifier\n",
    "from sklearn.metrics import confusion_matrix, f1_score\n",
    "from sklearn.model_selection import cross_val_predict, cross_val_score, train_test_split"
   ]
  },
  {
   "cell_type": "markdown",
   "metadata": {},
   "source": [
    "##### Retrieve the arrays and labels via pickle. Assign arrays to X (our training features) and labels to y (our training target/labels)"
   ]
  },
  {
   "cell_type": "code",
   "execution_count": 2,
   "metadata": {
    "ExecuteTime": {
     "end_time": "2019-09-20T14:21:02.794270Z",
     "start_time": "2019-09-20T14:21:02.775136Z"
    }
   },
   "outputs": [],
   "source": [
    "with open('image_arrays.pkl', 'rb') as f:\n",
    "    X = pickle.load(f)\n",
    "with open('image_labels.pkl', 'rb') as f:\n",
    "    y = pickle.load(f)"
   ]
  },
  {
   "cell_type": "markdown",
   "metadata": {},
   "source": [
    "##### Create train test split"
   ]
  },
  {
   "cell_type": "code",
   "execution_count": 3,
   "metadata": {
    "ExecuteTime": {
     "end_time": "2019-09-20T14:21:04.529254Z",
     "start_time": "2019-09-20T14:21:04.525226Z"
    }
   },
   "outputs": [],
   "source": [
    "X_train, X_test, y_train, y_test = train_test_split(X,\n",
    "                                                    y,\n",
    "                                                    test_size=0.12,\n",
    "                                                    random_state=42,\n",
    "                                                    shuffle=True)"
   ]
  },
  {
   "cell_type": "markdown",
   "metadata": {},
   "source": [
    "##### Initialize the classifier and fit to the training data:\n",
    "- Some testing indicated that n_neighbors = 6 was ideal number of neighbors"
   ]
  },
  {
   "cell_type": "code",
   "execution_count": 17,
   "metadata": {
    "ExecuteTime": {
     "end_time": "2019-09-20T14:50:48.078174Z",
     "start_time": "2019-09-20T14:50:47.861168Z"
    }
   },
   "outputs": [
    {
     "data": {
      "text/plain": [
       "KNeighborsClassifier(algorithm='auto', leaf_size=30, metric='minkowski',\n",
       "                     metric_params=None, n_jobs=None, n_neighbors=6, p=2,\n",
       "                     weights='uniform')"
      ]
     },
     "execution_count": 17,
     "metadata": {},
     "output_type": "execute_result"
    }
   ],
   "source": [
    "model = 'knn'\n",
    "knn_clf = KNeighborsClassifier(n_neighbors=6)\n",
    "knn_clf.fit(X_train, y_train)"
   ]
  },
  {
   "cell_type": "markdown",
   "metadata": {},
   "source": [
    "##### Predict on subset of the test data"
   ]
  },
  {
   "cell_type": "code",
   "execution_count": 5,
   "metadata": {
    "ExecuteTime": {
     "end_time": "2019-09-20T14:22:39.998753Z",
     "start_time": "2019-09-20T14:22:39.770611Z"
    }
   },
   "outputs": [
    {
     "name": "stdout",
     "output_type": "stream",
     "text": [
      "Label codes:  {'adult_females': 0, 'adult_males': 1, 'juveniles': 2, 'pups': 3, 'subadult_males': 4}\n",
      "Predictions:  [3 0 0 2 0 0 2 3 0 2 3 3 3 2 2 0 0 3 0 3]\n",
      "Actual classes:  [3, 0, 0, 2, 0, 1, 1, 3, 1, 2, 3, 3, 3, 0, 0, 0, 0, 3, 0, 3]\n"
     ]
    }
   ],
   "source": [
    "print(\n",
    "    \"Label codes:  {'adult_females': 0, 'adult_males': 1, 'juveniles': 2, 'pups': 3, 'subadult_males': 4}\"\n",
    ")\n",
    "print(\"Predictions: \", knn_clf.predict(X_test[0:20]))\n",
    "print(\"Actual classes: \", y_test[0:20])"
   ]
  },
  {
   "cell_type": "markdown",
   "metadata": {},
   "source": [
    "##### Create confusion matrix - good explanation here if unfamiliar: https://www.geeksforgeeks.org/confusion-matrix-machine-learning/"
   ]
  },
  {
   "cell_type": "code",
   "execution_count": 7,
   "metadata": {
    "ExecuteTime": {
     "end_time": "2019-09-20T14:23:44.271404Z",
     "start_time": "2019-09-20T14:23:36.753904Z"
    }
   },
   "outputs": [
    {
     "data": {
      "text/plain": [
       "array([[392,   4, 166,  39,   3],\n",
       "       [ 41,   1,  21,   3,   1],\n",
       "       [ 71,   0,  37,  18,   0],\n",
       "       [ 14,   0,  14, 212,   0],\n",
       "       [ 32,   1,  10,   1,   0]], dtype=int64)"
      ]
     },
     "execution_count": 7,
     "metadata": {},
     "output_type": "execute_result"
    }
   ],
   "source": [
    "y_train_pred = cross_val_predict(knn_clf, X_train, y_train, cv=3)\n",
    "\n",
    "conf_matrix = confusion_matrix(y_train, y_train_pred)\n",
    "conf_matrix"
   ]
  },
  {
   "cell_type": "markdown",
   "metadata": {},
   "source": [
    "### Scoring Metrics"
   ]
  },
  {
   "cell_type": "markdown",
   "metadata": {},
   "source": [
    "##### Mean accuracy"
   ]
  },
  {
   "cell_type": "code",
   "execution_count": 14,
   "metadata": {
    "ExecuteTime": {
     "end_time": "2019-09-20T14:46:26.674786Z",
     "start_time": "2019-09-20T14:46:17.774784Z"
    }
   },
   "outputs": [
    {
     "data": {
      "text/plain": [
       "0.6085932734883235"
      ]
     },
     "execution_count": 14,
     "metadata": {},
     "output_type": "execute_result"
    }
   ],
   "source": [
    "cross_val_mean = cross_val_score(knn_clf, X_train, y_train, cv=5, scoring='accuracy').mean()\n",
    "cross_val_mean"
   ]
  },
  {
   "cell_type": "markdown",
   "metadata": {},
   "source": [
    "##### F1 Scores"
   ]
  },
  {
   "cell_type": "code",
   "execution_count": 15,
   "metadata": {
    "ExecuteTime": {
     "end_time": "2019-09-20T14:46:26.683755Z",
     "start_time": "2019-09-20T14:46:26.675788Z"
    }
   },
   "outputs": [
    {
     "data": {
      "text/plain": [
       "array([0.67937608, 0.02739726, 0.19786096, 0.82651072, 0.        ])"
      ]
     },
     "execution_count": 15,
     "metadata": {},
     "output_type": "execute_result"
    }
   ],
   "source": [
    "f1_scores = f1_score(y_train, y_train_pred, average=None)\n",
    "f1_scores"
   ]
  },
  {
   "cell_type": "code",
   "execution_count": 18,
   "metadata": {
    "ExecuteTime": {
     "end_time": "2019-09-20T14:50:54.300155Z",
     "start_time": "2019-09-20T14:50:54.276184Z"
    }
   },
   "outputs": [
    {
     "data": {
      "text/html": [
       "<div>\n",
       "<style scoped>\n",
       "    .dataframe tbody tr th:only-of-type {\n",
       "        vertical-align: middle;\n",
       "    }\n",
       "\n",
       "    .dataframe tbody tr th {\n",
       "        vertical-align: top;\n",
       "    }\n",
       "\n",
       "    .dataframe thead th {\n",
       "        text-align: right;\n",
       "    }\n",
       "</style>\n",
       "<table border=\"1\" class=\"dataframe\">\n",
       "  <thead>\n",
       "    <tr style=\"text-align: right;\">\n",
       "      <th></th>\n",
       "      <th>model</th>\n",
       "      <th>f1_scores</th>\n",
       "      <th>cross_val</th>\n",
       "    </tr>\n",
       "  </thead>\n",
       "  <tbody>\n",
       "    <tr>\n",
       "      <td>0</td>\n",
       "      <td>knn</td>\n",
       "      <td>0.679376</td>\n",
       "      <td>0.608593</td>\n",
       "    </tr>\n",
       "    <tr>\n",
       "      <td>1</td>\n",
       "      <td>knn</td>\n",
       "      <td>0.027397</td>\n",
       "      <td>0.608593</td>\n",
       "    </tr>\n",
       "    <tr>\n",
       "      <td>2</td>\n",
       "      <td>knn</td>\n",
       "      <td>0.197861</td>\n",
       "      <td>0.608593</td>\n",
       "    </tr>\n",
       "    <tr>\n",
       "      <td>3</td>\n",
       "      <td>knn</td>\n",
       "      <td>0.826511</td>\n",
       "      <td>0.608593</td>\n",
       "    </tr>\n",
       "    <tr>\n",
       "      <td>4</td>\n",
       "      <td>knn</td>\n",
       "      <td>0.000000</td>\n",
       "      <td>0.608593</td>\n",
       "    </tr>\n",
       "  </tbody>\n",
       "</table>\n",
       "</div>"
      ],
      "text/plain": [
       "  model  f1_scores  cross_val\n",
       "0   knn   0.679376   0.608593\n",
       "1   knn   0.027397   0.608593\n",
       "2   knn   0.197861   0.608593\n",
       "3   knn   0.826511   0.608593\n",
       "4   knn   0.000000   0.608593"
      ]
     },
     "execution_count": 18,
     "metadata": {},
     "output_type": "execute_result"
    }
   ],
   "source": [
    "# Export scores for visualization later\n",
    "import pandas as pd\n",
    "results = pd.DataFrame(dict(model=model,\n",
    "                           f1_scores=f1_scores,\n",
    "                           cross_val=cross_val_mean))\n",
    "results"
   ]
  },
  {
   "cell_type": "code",
   "execution_count": null,
   "metadata": {},
   "outputs": [],
   "source": []
  }
 ],
 "metadata": {
  "gist": {
   "data": {
    "description": "Desktop/Sea Lion Counting/exploratory/Model_Training/2 - Image Classification with K Nearest Neighbors Classifier.ipynb",
    "public": true
   },
   "id": ""
  },
  "hide_input": false,
  "kernelspec": {
   "display_name": "MaskRCNN",
   "language": "python",
   "name": "maskrcnn"
  },
  "language_info": {
   "codemirror_mode": {
    "name": "ipython",
    "version": 3
   },
   "file_extension": ".py",
   "mimetype": "text/x-python",
   "name": "python",
   "nbconvert_exporter": "python",
   "pygments_lexer": "ipython3",
   "version": "3.6.9"
  }
 },
 "nbformat": 4,
 "nbformat_minor": 2
}
