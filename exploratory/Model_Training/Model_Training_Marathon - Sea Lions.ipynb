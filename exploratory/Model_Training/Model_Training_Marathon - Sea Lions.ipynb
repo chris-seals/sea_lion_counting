{
 "cells": [
  {
   "cell_type": "code",
   "execution_count": 6,
   "metadata": {
    "ExecuteTime": {
     "end_time": "2019-09-19T19:46:05.684091Z",
     "start_time": "2019-09-19T19:46:05.679116Z"
    }
   },
   "outputs": [],
   "source": [
    "import cv2\n",
    "import glob\n",
    "import matplotlib as mpl\n",
    "import matplotlib.pyplot as plt\n",
    "import numpy as np\n",
    "import pandas as pd\n",
    "import pathlib\n",
    "import PIL\n",
    "import random\n",
    "\n",
    "from sklearn.metrics import precision_recall_curve\n",
    "from sklearn.model_selection import train_test_split\n",
    "from sklearn.metrics import confusion_matrix\n",
    "from sklearn.linear_model import SGDClassifier\n",
    "from sklearn.model_selection import cross_val_predict\n",
    "from sklearn.ensemble import RandomForestClassifier\n",
    "from sklearn.model_selection import cross_val_score\n",
    "from sklearn.neighbors import KNeighborsClassifier\n",
    "from sklearn.metrics import classification_report"
   ]
  },
  {
   "cell_type": "markdown",
   "metadata": {},
   "source": [
    "Retrieve all chips from folders... assign their class based on what subfolder they are in (adult_females, adult_males, etc.)"
   ]
  },
  {
   "cell_type": "code",
   "execution_count": 7,
   "metadata": {
    "ExecuteTime": {
     "end_time": "2019-09-19T19:46:05.719875Z",
     "start_time": "2019-09-19T19:46:05.686125Z"
    }
   },
   "outputs": [
    {
     "name": "stdout",
     "output_type": "stream",
     "text": [
      "Chip Folders:  \n",
      " --------------------------------------------------\n",
      "..\\results\\bbox_chips\\adult_females\n",
      "..\\results\\bbox_chips\\adult_males\n",
      "..\\results\\bbox_chips\\juveniles\n",
      "..\\results\\bbox_chips\\pups\n",
      "..\\results\\bbox_chips\\subadult_males\n",
      "--------------------------------------------------\n",
      "Total image count is 1229\n"
     ]
    }
   ],
   "source": [
    "images_root = pathlib.Path('../results/bbox_chips')\n",
    "print('Chip Folders: ', '\\n', '-' * 50)\n",
    "for item in images_root.iterdir():\n",
    "    print(item)\n",
    "all_image_paths = list(images_root.glob('*/*'))\n",
    "all_image_paths = [str(path) for path in all_image_paths]\n",
    "random.seed(42)\n",
    "random.shuffle(all_image_paths)  # shuffle now for train test split later\n",
    "\n",
    "print('-' * 50)\n",
    "print(f'Total image count is {len(all_image_paths)}')"
   ]
  },
  {
   "cell_type": "code",
   "execution_count": 8,
   "metadata": {
    "ExecuteTime": {
     "end_time": "2019-09-19T19:46:05.726875Z",
     "start_time": "2019-09-19T19:46:05.721876Z"
    }
   },
   "outputs": [
    {
     "data": {
      "text/plain": [
       "['..\\\\results\\\\bbox_chips\\\\pups\\\\43_pups_119.png',\n",
       " '..\\\\results\\\\bbox_chips\\\\juveniles\\\\48_juveniles_126.png',\n",
       " '..\\\\results\\\\bbox_chips\\\\adult_females\\\\45_adult_females_475.png',\n",
       " '..\\\\results\\\\bbox_chips\\\\adult_males\\\\45_adult_males_54.png',\n",
       " '..\\\\results\\\\bbox_chips\\\\adult_females\\\\43_adult_females_215.png',\n",
       " '..\\\\results\\\\bbox_chips\\\\pups\\\\43_pups_199.png',\n",
       " '..\\\\results\\\\bbox_chips\\\\juveniles\\\\48_juveniles_122.png',\n",
       " '..\\\\results\\\\bbox_chips\\\\adult_females\\\\41_adult_females_39.png',\n",
       " '..\\\\results\\\\bbox_chips\\\\adult_females\\\\47_adult_females_603.png',\n",
       " '..\\\\results\\\\bbox_chips\\\\adult_females\\\\48_adult_females_658.png']"
      ]
     },
     "execution_count": 8,
     "metadata": {},
     "output_type": "execute_result"
    }
   ],
   "source": [
    "all_image_paths[0:10]"
   ]
  },
  {
   "cell_type": "code",
   "execution_count": 9,
   "metadata": {
    "ExecuteTime": {
     "end_time": "2019-09-19T19:46:05.736873Z",
     "start_time": "2019-09-19T19:46:05.728876Z"
    }
   },
   "outputs": [],
   "source": [
    "label_names = sorted(item.name for item in images_root.glob('*/')\n",
    "                     if item.is_dir())"
   ]
  },
  {
   "cell_type": "code",
   "execution_count": 10,
   "metadata": {
    "ExecuteTime": {
     "end_time": "2019-09-19T19:46:05.744876Z",
     "start_time": "2019-09-19T19:46:05.737875Z"
    }
   },
   "outputs": [
    {
     "data": {
      "text/plain": [
       "['adult_females', 'adult_males', 'juveniles', 'pups', 'subadult_males']"
      ]
     },
     "execution_count": 10,
     "metadata": {},
     "output_type": "execute_result"
    }
   ],
   "source": [
    "label_names"
   ]
  },
  {
   "cell_type": "code",
   "execution_count": 11,
   "metadata": {
    "ExecuteTime": {
     "end_time": "2019-09-19T19:46:05.753876Z",
     "start_time": "2019-09-19T19:46:05.745874Z"
    }
   },
   "outputs": [
    {
     "data": {
      "text/plain": [
       "{'adult_females': 0,\n",
       " 'adult_males': 1,\n",
       " 'juveniles': 2,\n",
       " 'pups': 3,\n",
       " 'subadult_males': 4}"
      ]
     },
     "execution_count": 11,
     "metadata": {},
     "output_type": "execute_result"
    }
   ],
   "source": [
    "label_to_index = dict((name, index) for index, name in enumerate(label_names))\n",
    "label_to_index"
   ]
  },
  {
   "cell_type": "code",
   "execution_count": 12,
   "metadata": {
    "ExecuteTime": {
     "end_time": "2019-09-19T19:46:05.768875Z",
     "start_time": "2019-09-19T19:46:05.754876Z"
    }
   },
   "outputs": [
    {
     "data": {
      "text/plain": [
       "[3, 2, 0, 1, 0, 3, 2, 0, 0, 0]"
      ]
     },
     "execution_count": 12,
     "metadata": {},
     "output_type": "execute_result"
    }
   ],
   "source": [
    "all_image_labels = [\n",
    "    label_to_index[pathlib.Path(path).parent.name] for path in all_image_paths\n",
    "]\n",
    "all_image_labels[0:10]"
   ]
  },
  {
   "cell_type": "code",
   "execution_count": 13,
   "metadata": {
    "ExecuteTime": {
     "end_time": "2019-09-19T19:46:05.777876Z",
     "start_time": "2019-09-19T19:46:05.771875Z"
    }
   },
   "outputs": [
    {
     "data": {
      "text/plain": [
       "1229"
      ]
     },
     "execution_count": 13,
     "metadata": {},
     "output_type": "execute_result"
    }
   ],
   "source": [
    "len(all_image_labels)"
   ]
  },
  {
   "cell_type": "code",
   "execution_count": 14,
   "metadata": {
    "ExecuteTime": {
     "end_time": "2019-09-19T19:46:05.786871Z",
     "start_time": "2019-09-19T19:46:05.779876Z"
    }
   },
   "outputs": [
    {
     "data": {
      "text/plain": [
       "1229"
      ]
     },
     "execution_count": 14,
     "metadata": {},
     "output_type": "execute_result"
    }
   ],
   "source": [
    "len(all_image_paths)"
   ]
  },
  {
   "cell_type": "code",
   "execution_count": 15,
   "metadata": {
    "ExecuteTime": {
     "end_time": "2019-09-19T19:46:07.514021Z",
     "start_time": "2019-09-19T19:46:05.787890Z"
    }
   },
   "outputs": [],
   "source": [
    "#all_image_arrays = [cv2.imread(str(i)).ravel() for i in all_image_paths]\n",
    "# ValueError: setting an array element with a sequence.\n",
    "all_image_arrays = [cv2.imread(str(i)) for i in all_image_paths]\n",
    "all_image_arrays = [cv2.resize(img, (80, 80)) for img in all_image_arrays]\n",
    "all_image_arrays = [\n",
    "    cv2.cvtColor(i, cv2.COLOR_BGR2GRAY).ravel() for i in all_image_arrays\n",
    "]  #.ravel()"
   ]
  },
  {
   "cell_type": "code",
   "execution_count": 16,
   "metadata": {
    "ExecuteTime": {
     "end_time": "2019-09-19T19:46:07.517995Z",
     "start_time": "2019-09-19T19:46:07.515021Z"
    }
   },
   "outputs": [],
   "source": [
    "X, y = all_image_arrays, all_image_labels"
   ]
  },
  {
   "cell_type": "code",
   "execution_count": 17,
   "metadata": {
    "ExecuteTime": {
     "end_time": "2019-09-19T19:46:07.540174Z",
     "start_time": "2019-09-19T19:46:07.519990Z"
    }
   },
   "outputs": [],
   "source": [
    "X = np.array(X)\n",
    "# y = np.array(data['label'])"
   ]
  },
  {
   "cell_type": "code",
   "execution_count": 18,
   "metadata": {
    "ExecuteTime": {
     "end_time": "2019-09-19T19:46:07.551193Z",
     "start_time": "2019-09-19T19:46:07.542172Z"
    }
   },
   "outputs": [],
   "source": [
    "X_train, X_test, y_train, y_test = train_test_split(X,\n",
    "                                                    y,\n",
    "                                                    test_size=0.12,\n",
    "                                                    random_state=42,\n",
    "                                                    shuffle=True)"
   ]
  },
  {
   "cell_type": "code",
   "execution_count": 19,
   "metadata": {
    "ExecuteTime": {
     "end_time": "2019-09-19T19:46:10.336505Z",
     "start_time": "2019-09-19T19:46:07.552173Z"
    }
   },
   "outputs": [
    {
     "data": {
      "text/plain": [
       "SGDClassifier(alpha=0.0001, average=False, class_weight=None,\n",
       "              early_stopping=False, epsilon=0.1, eta0=0.0, fit_intercept=True,\n",
       "              l1_ratio=0.15, learning_rate='optimal', loss='hinge',\n",
       "              max_iter=1000, n_iter_no_change=5, n_jobs=None, penalty='l2',\n",
       "              power_t=0.5, random_state=42, shuffle=True, tol=0.001,\n",
       "              validation_fraction=0.1, verbose=0, warm_start=False)"
      ]
     },
     "execution_count": 19,
     "metadata": {},
     "output_type": "execute_result"
    }
   ],
   "source": [
    "sgd_clf = SGDClassifier(random_state=42)\n",
    "sgd_clf.fit(X_train, y_train)"
   ]
  },
  {
   "cell_type": "code",
   "execution_count": 20,
   "metadata": {
    "ExecuteTime": {
     "end_time": "2019-09-19T19:46:10.344471Z",
     "start_time": "2019-09-19T19:46:10.337467Z"
    }
   },
   "outputs": [
    {
     "data": {
      "text/plain": [
       "[3, 2, 0, 1, 0, 3, 2, 0, 0, 0, 3, 1, 1, 0, 2, 0, 0, 3, 1, 0]"
      ]
     },
     "execution_count": 20,
     "metadata": {},
     "output_type": "execute_result"
    }
   ],
   "source": [
    "y[0:20]"
   ]
  },
  {
   "cell_type": "code",
   "execution_count": 21,
   "metadata": {
    "ExecuteTime": {
     "end_time": "2019-09-19T19:46:10.362559Z",
     "start_time": "2019-09-19T19:46:10.346627Z"
    }
   },
   "outputs": [
    {
     "name": "stdout",
     "output_type": "stream",
     "text": [
      "Label codes:  {'adult_females': 0, 'adult_males': 1, 'juveniles': 2, 'pups': 3, 'subadult_males': 4}\n",
      "Prediction:  [3 4 4 1 4 3 3 4 0 4 3 1 1 4 4 4 0 3 4 0]\n",
      "Actual:  [3, 2, 0, 1, 0, 3, 2, 0, 0, 0, 3, 1, 1, 0, 2, 0, 0, 3, 1, 0]\n"
     ]
    }
   ],
   "source": [
    "print(\"Label codes: \", label_to_index)\n",
    "print(\"Prediction: \", sgd_clf.predict(X[0:20]))\n",
    "print(\"Actual: \", y[0:20])"
   ]
  },
  {
   "cell_type": "code",
   "execution_count": 22,
   "metadata": {
    "ExecuteTime": {
     "end_time": "2019-09-19T19:46:15.463286Z",
     "start_time": "2019-09-19T19:46:10.364559Z"
    }
   },
   "outputs": [
    {
     "data": {
      "text/plain": [
       "array([[371,  59,  63,  63,  48],\n",
       "       [ 42,  10,   7,   4,   4],\n",
       "       [ 75,  11,  12,  23,   5],\n",
       "       [ 20,   1,   7, 210,   2],\n",
       "       [ 28,   2,   5,   8,   1]], dtype=int64)"
      ]
     },
     "execution_count": 22,
     "metadata": {},
     "output_type": "execute_result"
    }
   ],
   "source": [
    "y_train_pred = cross_val_predict(sgd_clf, X_train, y_train, cv=3)\n",
    "\n",
    "conf_matrix = confusion_matrix(y_train, y_train_pred)\n",
    "conf_matrix"
   ]
  },
  {
   "cell_type": "code",
   "execution_count": 23,
   "metadata": {
    "ExecuteTime": {
     "end_time": "2019-09-19T19:46:15.471290Z",
     "start_time": "2019-09-19T19:46:15.465289Z"
    }
   },
   "outputs": [
    {
     "data": {
      "text/plain": [
       "array([0, 1, 2, 3, 4])"
      ]
     },
     "execution_count": 23,
     "metadata": {},
     "output_type": "execute_result"
    }
   ],
   "source": [
    "sgd_clf.classes_"
   ]
  },
  {
   "cell_type": "code",
   "execution_count": 24,
   "metadata": {
    "ExecuteTime": {
     "end_time": "2019-09-19T19:46:20.497851Z",
     "start_time": "2019-09-19T19:46:15.473287Z"
    }
   },
   "outputs": [],
   "source": [
    "# get scores of all instances in the training set with cross val predict\n",
    "y_scores = cross_val_predict(sgd_clf,\n",
    "                             X_train,\n",
    "                             y_train,\n",
    "                             cv=3,\n",
    "                             method='decision_function')"
   ]
  },
  {
   "cell_type": "markdown",
   "metadata": {},
   "source": [
    "#### Accuracy checks on SGD classifier"
   ]
  },
  {
   "cell_type": "code",
   "execution_count": 25,
   "metadata": {
    "ExecuteTime": {
     "end_time": "2019-09-19T19:46:30.369100Z",
     "start_time": "2019-09-19T19:46:20.499849Z"
    }
   },
   "outputs": [
    {
     "data": {
      "text/plain": [
       "array([0.70642202, 0.65898618, 0.58796296, 0.71759259, 0.67757009])"
      ]
     },
     "execution_count": 25,
     "metadata": {},
     "output_type": "execute_result"
    }
   ],
   "source": [
    "cross_val_score(sgd_clf, X_train, y_train, cv=5, scoring='accuracy')"
   ]
  },
  {
   "cell_type": "markdown",
   "metadata": {},
   "source": [
    "#### Try with scaling"
   ]
  },
  {
   "cell_type": "code",
   "execution_count": 26,
   "metadata": {
    "ExecuteTime": {
     "end_time": "2019-09-19T19:46:37.148473Z",
     "start_time": "2019-09-19T19:46:30.371082Z"
    }
   },
   "outputs": [
    {
     "data": {
      "text/plain": [
       "array([0.67889908, 0.64516129, 0.625     , 0.64814815, 0.60747664])"
      ]
     },
     "execution_count": 26,
     "metadata": {},
     "output_type": "execute_result"
    }
   ],
   "source": [
    "from sklearn.preprocessing import StandardScaler\n",
    "scaler = StandardScaler()\n",
    "X_train_scaled = scaler.fit_transform(X_train.astype(np.float64))\n",
    "cross_val_score(sgd_clf, X_train_scaled, y_train, cv=5, scoring='accuracy')"
   ]
  },
  {
   "cell_type": "markdown",
   "metadata": {},
   "source": [
    "It seems scaling made this worse..."
   ]
  },
  {
   "cell_type": "markdown",
   "metadata": {},
   "source": [
    "##### Confusion Matrix - Actual Classes on Left, Predicted on Top"
   ]
  },
  {
   "cell_type": "code",
   "execution_count": 27,
   "metadata": {
    "ExecuteTime": {
     "end_time": "2019-09-19T19:46:37.238308Z",
     "start_time": "2019-09-19T19:46:37.150281Z"
    },
    "scrolled": false
   },
   "outputs": [
    {
     "data": {
      "image/png": "[encoded data removed]",
      "text/plain": [
       "<Figure size 288x288 with 1 Axes>"
      ]
     },
     "metadata": {
      "needs_background": "light"
     },
     "output_type": "display_data"
    }
   ],
   "source": [
    "plt.matshow(conf_matrix, cmap=plt.cm.gray)\n",
    "plt.show()"
   ]
  },
  {
   "cell_type": "markdown",
   "metadata": {},
   "source": [
    "### Compare Random Forest Classifier vs SGD"
   ]
  },
  {
   "cell_type": "code",
   "execution_count": 28,
   "metadata": {
    "ExecuteTime": {
     "end_time": "2019-09-19T19:46:37.244312Z",
     "start_time": "2019-09-19T19:46:37.241311Z"
    }
   },
   "outputs": [],
   "source": [
    "forest_clf = RandomForestClassifier(random_state=42)"
   ]
  },
  {
   "cell_type": "code",
   "execution_count": 29,
   "metadata": {
    "ExecuteTime": {
     "end_time": "2019-09-19T19:46:38.610300Z",
     "start_time": "2019-09-19T19:46:37.246309Z"
    },
    "scrolled": true
   },
   "outputs": [
    {
     "name": "stderr",
     "output_type": "stream",
     "text": [
      "C:\\Users\\604572\\Continuum\\anaconda3\\envs\\MaskRCNN\\lib\\site-packages\\sklearn\\ensemble\\forest.py:245: FutureWarning: The default value of n_estimators will change from 10 in version 0.20 to 100 in 0.22.\n",
      "  \"10 in version 0.20 to 100 in 0.22.\", FutureWarning)\n"
     ]
    }
   ],
   "source": [
    "forest_clf.fit(X_train, y_train)\n",
    "y_probas_forest = cross_val_predict(forest_clf,\n",
    "                                    X_train,\n",
    "                                    y_train,\n",
    "                                    cv=3,\n",
    "                                    method=\"predict_proba\")"
   ]
  },
  {
   "cell_type": "code",
   "execution_count": 30,
   "metadata": {
    "ExecuteTime": {
     "end_time": "2019-09-19T19:46:38.617337Z",
     "start_time": "2019-09-19T19:46:38.611300Z"
    }
   },
   "outputs": [
    {
     "name": "stdout",
     "output_type": "stream",
     "text": [
      "Label codes:  {'adult_females': 0, 'adult_males': 1, 'juveniles': 2, 'pups': 3, 'subadult_males': 4}\n",
      "Prediction:  [3 2 0 1 0 3 2 0 0 0 3 1 1 0 0 0 0 3 1 0]\n",
      "Actual:  [3, 2, 0, 1, 0, 3, 2, 0, 0, 0, 3, 1, 1, 0, 2, 0, 0, 3, 1, 0]\n"
     ]
    }
   ],
   "source": [
    "print(\"Label codes: \", label_to_index)\n",
    "print(\"Prediction: \", forest_clf.predict(X[0:20]))\n",
    "print(\"Actual: \", y[0:20])"
   ]
  },
  {
   "cell_type": "code",
   "execution_count": 31,
   "metadata": {
    "ExecuteTime": {
     "end_time": "2019-09-19T19:46:38.625321Z",
     "start_time": "2019-09-19T19:46:38.618300Z"
    }
   },
   "outputs": [
    {
     "data": {
      "text/plain": [
       "0"
      ]
     },
     "execution_count": 31,
     "metadata": {},
     "output_type": "execute_result"
    }
   ],
   "source": [
    "y[100]"
   ]
  },
  {
   "cell_type": "code",
   "execution_count": 32,
   "metadata": {
    "ExecuteTime": {
     "end_time": "2019-09-19T19:46:38.638303Z",
     "start_time": "2019-09-19T19:46:38.628300Z"
    }
   },
   "outputs": [
    {
     "data": {
      "text/plain": [
       "array([[0.8, 0. , 0.2, 0. , 0. ]])"
      ]
     },
     "execution_count": 32,
     "metadata": {},
     "output_type": "execute_result"
    }
   ],
   "source": [
    "forest_clf.predict_proba(\n",
    "    [X[100]]\n",
    ")  # shows probability per image of what it thinks the image show (80% change adult female here)"
   ]
  },
  {
   "cell_type": "code",
   "execution_count": 33,
   "metadata": {
    "ExecuteTime": {
     "end_time": "2019-09-19T19:46:39.511331Z",
     "start_time": "2019-09-19T19:46:38.641301Z"
    }
   },
   "outputs": [
    {
     "name": "stderr",
     "output_type": "stream",
     "text": [
      "C:\\Users\\604572\\Continuum\\anaconda3\\envs\\MaskRCNN\\lib\\site-packages\\sklearn\\model_selection\\_split.py:1978: FutureWarning: The default value of cv will change from 3 to 5 in version 0.22. Specify it explicitly to silence this warning.\n",
      "  warnings.warn(CV_WARNING, FutureWarning)\n"
     ]
    },
    {
     "data": {
      "text/plain": [
       "array([0.72375691, 0.73055556, 0.70752089])"
      ]
     },
     "execution_count": 33,
     "metadata": {},
     "output_type": "execute_result"
    }
   ],
   "source": [
    "cross_val_score(forest_clf, X_train, y_train, scoring='accuracy')"
   ]
  },
  {
   "cell_type": "markdown",
   "metadata": {},
   "source": [
    "### KNN Classifier"
   ]
  },
  {
   "cell_type": "code",
   "execution_count": 34,
   "metadata": {
    "ExecuteTime": {
     "end_time": "2019-09-19T19:46:48.884902Z",
     "start_time": "2019-09-19T19:46:39.512295Z"
    }
   },
   "outputs": [
    {
     "name": "stdout",
     "output_type": "stream",
     "text": [
      "0.6621621621621622\n"
     ]
    },
    {
     "name": "stderr",
     "output_type": "stream",
     "text": [
      "C:\\Users\\604572\\Continuum\\anaconda3\\envs\\MaskRCNN\\lib\\site-packages\\sklearn\\model_selection\\_split.py:1978: FutureWarning: The default value of cv will change from 3 to 5 in version 0.22. Specify it explicitly to silence this warning.\n",
      "  warnings.warn(CV_WARNING, FutureWarning)\n"
     ]
    },
    {
     "data": {
      "text/plain": [
       "array([0.68508287, 0.48611111, 0.61002786])"
      ]
     },
     "execution_count": 34,
     "metadata": {},
     "output_type": "execute_result"
    }
   ],
   "source": [
    "# Create a k-NN classifier with 6 neighbors: knn\n",
    "knn = KNeighborsClassifier(n_neighbors=6)\n",
    "\n",
    "# Fit the classifier to the data\n",
    "knn.fit(X_train, y_train)\n",
    "\n",
    "# Print the accuracy\n",
    "print(knn.score(X_test, y_test))\n",
    "cross_val_score(knn, X_train, y_train, scoring='accuracy')"
   ]
  },
  {
   "cell_type": "markdown",
   "metadata": {},
   "source": [
    "^^^^^ KNN scores similar to the SGD"
   ]
  },
  {
   "cell_type": "code",
   "execution_count": 35,
   "metadata": {
    "ExecuteTime": {
     "end_time": "2019-09-19T19:48:28.703330Z",
     "start_time": "2019-09-19T19:46:48.886870Z"
    }
   },
   "outputs": [
    {
     "data": {
      "image/png": "[encoded data removed]",
      "text/plain": [
       "<Figure size 432x288 with 1 Axes>"
      ]
     },
     "metadata": {
      "needs_background": "light"
     },
     "output_type": "display_data"
    }
   ],
   "source": [
    "# Setup arrays to store train and test accuracies\n",
    "neighbors = np.arange(1, 9)\n",
    "train_accuracy = np.empty(len(neighbors))\n",
    "test_accuracy = np.empty(len(neighbors))\n",
    "\n",
    "# Loop over different values of k\n",
    "for i, k in enumerate(neighbors):\n",
    "    # Setup a k-NN Classifier with k neighbors: knn\n",
    "    knn = KNeighborsClassifier(n_neighbors=k)\n",
    "\n",
    "    # Fit the classifier to the training data\n",
    "    knn.fit(X_train, y_train)\n",
    "\n",
    "    #Compute accuracy on the training set\n",
    "    train_accuracy[i] = knn.score(X_train, y_train)\n",
    "\n",
    "    #Compute accuracy on the testing set\n",
    "    test_accuracy[i] = knn.score(X_test, y_test)\n",
    "\n",
    "# Generate plot\n",
    "plt.title('k-NN: Varying Number of Neighbors')\n",
    "plt.plot(neighbors, test_accuracy, label='Testing Accuracy')\n",
    "plt.plot(neighbors, train_accuracy, label='Training Accuracy')\n",
    "plt.legend()\n",
    "plt.xlabel('Number of Neighbors')\n",
    "plt.ylabel('Accuracy')\n",
    "plt.show()"
   ]
  },
  {
   "cell_type": "code",
   "execution_count": 36,
   "metadata": {
    "ExecuteTime": {
     "end_time": "2019-09-19T19:48:28.930294Z",
     "start_time": "2019-09-19T19:48:28.704295Z"
    }
   },
   "outputs": [
    {
     "data": {
      "text/plain": [
       "KNeighborsClassifier(algorithm='auto', leaf_size=30, metric='minkowski',\n",
       "                     metric_params=None, n_jobs=None, n_neighbors=6, p=2,\n",
       "                     weights='uniform')"
      ]
     },
     "execution_count": 36,
     "metadata": {},
     "output_type": "execute_result"
    }
   ],
   "source": [
    "# Go back to 6 neighbors\n",
    "knn = KNeighborsClassifier(n_neighbors=6)\n",
    "knn.fit(X_train, y_train)"
   ]
  },
  {
   "cell_type": "code",
   "execution_count": 37,
   "metadata": {
    "ExecuteTime": {
     "end_time": "2019-09-19T19:48:30.570574Z",
     "start_time": "2019-09-19T19:48:28.931294Z"
    },
    "scrolled": true
   },
   "outputs": [
    {
     "name": "stdout",
     "output_type": "stream",
     "text": [
      "[[51  1 16  4  0]\n",
      " [ 7  0  3  0  0]\n",
      " [ 7  0  9  8  0]\n",
      " [ 3  0  0 38  0]\n",
      " [ 1  0  0  0  0]]\n",
      "              precision    recall  f1-score   support\n",
      "\n",
      "           0       0.74      0.71      0.72        72\n",
      "           1       0.00      0.00      0.00        10\n",
      "           2       0.32      0.38      0.35        24\n",
      "           3       0.76      0.93      0.84        41\n",
      "           4       0.00      0.00      0.00         1\n",
      "\n",
      "    accuracy                           0.66       148\n",
      "   macro avg       0.36      0.40      0.38       148\n",
      "weighted avg       0.62      0.66      0.64       148\n",
      "\n"
     ]
    },
    {
     "name": "stderr",
     "output_type": "stream",
     "text": [
      "C:\\Users\\604572\\Continuum\\anaconda3\\envs\\MaskRCNN\\lib\\site-packages\\sklearn\\metrics\\classification.py:1437: UndefinedMetricWarning: Precision and F-score are ill-defined and being set to 0.0 in labels with no predicted samples.\n",
      "  'precision', 'predicted', average, warn_for)\n"
     ]
    }
   ],
   "source": [
    "# Predict the labels of the test data: y_pred\n",
    "y_pred = knn.predict(X_test)\n",
    "\n",
    "# Generate the confusion matrix and classification report\n",
    "print(confusion_matrix(y_test, y_pred))\n",
    "print(classification_report(y_test, y_pred))"
   ]
  },
  {
   "cell_type": "markdown",
   "metadata": {},
   "source": [
    "## Cross Val Scores"
   ]
  },
  {
   "cell_type": "code",
   "execution_count": 38,
   "metadata": {
    "ExecuteTime": {
     "end_time": "2019-09-19T19:48:59.954562Z",
     "start_time": "2019-09-19T19:48:30.572566Z"
    }
   },
   "outputs": [
    {
     "name": "stdout",
     "output_type": "stream",
     "text": [
      "KNN scores:  [0.5766129  0.60569106 0.59183673 0.65714286 0.5755102 ]\n",
      "SGD scores:  [0.56048387 0.6504065  0.65714286 0.63673469 0.53877551]\n",
      "forest_clf scores:  [0.67741935 0.72357724 0.70612245 0.71428571 0.73469388]\n"
     ]
    }
   ],
   "source": [
    "print('KNN scores: ', cross_val_score(knn, X, y, cv=5, scoring='accuracy'))\n",
    "print('SGD scores: ', cross_val_score(sgd_clf, X, y, cv=5, scoring='accuracy'))\n",
    "print('forest_clf scores: ',\n",
    "      cross_val_score(forest_clf, X, y, cv=5, scoring='accuracy'))"
   ]
  },
  {
   "cell_type": "markdown",
   "metadata": {},
   "source": [
    "### Look at hyperparameters for forest_clf"
   ]
  },
  {
   "cell_type": "code",
   "execution_count": 39,
   "metadata": {
    "ExecuteTime": {
     "end_time": "2019-09-19T19:48:59.961563Z",
     "start_time": "2019-09-19T19:48:59.955564Z"
    }
   },
   "outputs": [
    {
     "name": "stdout",
     "output_type": "stream",
     "text": [
      "{'bootstrap': True,\n",
      " 'class_weight': None,\n",
      " 'criterion': 'gini',\n",
      " 'max_depth': None,\n",
      " 'max_features': 'auto',\n",
      " 'max_leaf_nodes': None,\n",
      " 'min_impurity_decrease': 0.0,\n",
      " 'min_impurity_split': None,\n",
      " 'min_samples_leaf': 1,\n",
      " 'min_samples_split': 2,\n",
      " 'min_weight_fraction_leaf': 0.0,\n",
      " 'n_estimators': 10,\n",
      " 'n_jobs': None,\n",
      " 'oob_score': False,\n",
      " 'random_state': 42,\n",
      " 'verbose': 0,\n",
      " 'warm_start': False}\n"
     ]
    }
   ],
   "source": [
    "from pprint import pprint\n",
    "pprint(forest_clf.get_params())"
   ]
  },
  {
   "cell_type": "code",
   "execution_count": 40,
   "metadata": {
    "ExecuteTime": {
     "end_time": "2019-09-19T19:48:59.976585Z",
     "start_time": "2019-09-19T19:48:59.964564Z"
    }
   },
   "outputs": [
    {
     "name": "stdout",
     "output_type": "stream",
     "text": [
      "{'bootstrap': [True, False],\n",
      " 'max_depth': [10, 20, 30, 40, 50, 60, 70, 80, 90, 100, 110, None],\n",
      " 'max_features': ['auto', 'sqrt'],\n",
      " 'min_samples_leaf': [1, 2, 4],\n",
      " 'min_samples_split': [2, 5, 10],\n",
      " 'n_estimators': [200, 400, 600, 800, 1000, 1200, 1400, 1600, 1800, 2000]}\n"
     ]
    }
   ],
   "source": [
    "from sklearn.model_selection import RandomizedSearchCV\n",
    "# Number of trees in random forest\n",
    "n_estimators = [int(x) for x in np.linspace(start=200, stop=2000, num=10)]\n",
    "# Number of features to consider at every split\n",
    "max_features = ['auto', 'sqrt']\n",
    "# Maximum number of levels in tree\n",
    "max_depth = [int(x) for x in np.linspace(10, 110, num=11)]\n",
    "max_depth.append(None)\n",
    "# Minimum number of samples required to split a node\n",
    "min_samples_split = [2, 5, 10]\n",
    "# Minimum number of samples required at each leaf node\n",
    "min_samples_leaf = [1, 2, 4]\n",
    "# Method of selecting samples for training each tree\n",
    "bootstrap = [True, False]\n",
    "# Create the random grid\n",
    "random_grid = {\n",
    "    'n_estimators': n_estimators,\n",
    "    'max_features': max_features,\n",
    "    'max_depth': max_depth,\n",
    "    'min_samples_split': min_samples_split,\n",
    "    'min_samples_leaf': min_samples_leaf,\n",
    "    'bootstrap': bootstrap\n",
    "}\n",
    "pprint(random_grid)"
   ]
  },
  {
   "cell_type": "code",
   "execution_count": 41,
   "metadata": {
    "ExecuteTime": {
     "end_time": "2019-09-19T19:48:59.983565Z",
     "start_time": "2019-09-19T19:48:59.978566Z"
    }
   },
   "outputs": [],
   "source": [
    "# Use the random grid to search for best hyperparameters\n",
    "# First create the base model to tune\n",
    "\n",
    "# Takes 30 minutes, dont need to run each time. Best params/estimator saved below.\n",
    "\n",
    "# Random search of parameters, using 3 fold cross validation,\n",
    "# search across 100 different combinations, and use all available cores\n",
    "# rf_random = RandomizedSearchCV(estimator=forest_clf,\n",
    "#                                param_distributions=random_grid,\n",
    "#                                n_iter=50,\n",
    "#                                cv=3,\n",
    "#                                verbose=2,\n",
    "#                                random_state=42,\n",
    "#                                n_jobs=-1)\n",
    "# # Fit the random search model\n",
    "# rf_random.fit(X_train, y_train)"
   ]
  },
  {
   "cell_type": "raw",
   "metadata": {},
   "source": [
    "RandomizedSearchCV(cv=3, error_score='raise-deprecating',\n",
    "                   estimator=RandomForestClassifier(bootstrap=True,\n",
    "                                                    class_weight=None,\n",
    "                                                    criterion='gini',\n",
    "                                                    max_depth=None,\n",
    "                                                    max_features='auto',\n",
    "                                                    max_leaf_nodes=None,\n",
    "                                                    min_impurity_decrease=0.0,\n",
    "                                                    min_impurity_split=None,\n",
    "                                                    min_samples_leaf=1,\n",
    "                                                    min_samples_split=2,\n",
    "                                                    min_weight_fraction_leaf=0.0,\n",
    "                                                    n_estimators=10,\n",
    "                                                    n_jobs=None,\n",
    "                                                    oob_score=...\n",
    "                   param_distributions={'bootstrap': [True, False],\n",
    "                                        'max_depth': [10, 20, 30, 40, 50, 60,\n",
    "                                                      70, 80, 90, 100, 110,\n",
    "                                                      None],\n",
    "                                        'max_features': ['auto', 'sqrt'],\n",
    "                                        'min_samples_leaf': [1, 2, 4],\n",
    "                                        'min_samples_split': [2, 5, 10],\n",
    "                                        'n_estimators': [200, 400, 600, 800,\n",
    "                                                         1000, 1200, 1400, 1600,\n",
    "                                                         1800, 2000]},\n",
    "                   pre_dispatch='2*n_jobs', random_state=42, refit=True,\n",
    "                   return_train_score=False, scoring=None, verbose=2)"
   ]
  },
  {
   "cell_type": "code",
   "execution_count": 43,
   "metadata": {
    "ExecuteTime": {
     "end_time": "2019-09-19T19:50:00.390141Z",
     "start_time": "2019-09-19T19:50:00.387141Z"
    }
   },
   "outputs": [],
   "source": [
    "# rf_grid_search_best_params = rf_random.best_params_\n",
    "# rf_grid_search_best_params"
   ]
  },
  {
   "cell_type": "code",
   "execution_count": 45,
   "metadata": {
    "ExecuteTime": {
     "end_time": "2019-09-19T19:50:04.401096Z",
     "start_time": "2019-09-19T19:50:04.398088Z"
    },
    "scrolled": true
   },
   "outputs": [],
   "source": [
    "# rf_grid_search_best_estimator = rf_random.best_estimator_\n",
    "# rf_grid_search_best_estimator"
   ]
  },
  {
   "cell_type": "code",
   "execution_count": 48,
   "metadata": {
    "ExecuteTime": {
     "end_time": "2019-09-19T19:50:44.141123Z",
     "start_time": "2019-09-19T19:50:44.137085Z"
    }
   },
   "outputs": [],
   "source": [
    "rf_clf = RandomForestClassifier(bootstrap=True, class_weight=None, criterion='gini',\n",
    "                       max_depth=20, max_features='sqrt', max_leaf_nodes=None,\n",
    "                       min_impurity_decrease=0.0, min_impurity_split=None,\n",
    "                       min_samples_leaf=2, min_samples_split=5,\n",
    "                       min_weight_fraction_leaf=0.0, n_estimators=1200,\n",
    "                       n_jobs=None, oob_score=False, random_state=42, verbose=0,\n",
    "                       warm_start=False)"
   ]
  },
  {
   "cell_type": "code",
   "execution_count": 49,
   "metadata": {
    "ExecuteTime": {
     "end_time": "2019-09-19T19:50:46.120095Z",
     "start_time": "2019-09-19T19:50:46.117092Z"
    }
   },
   "outputs": [],
   "source": [
    "\"\"\"\n",
    "best_estimator = RandomForestClassifier(bootstrap=True, class_weight=None, criterion='gini',\n",
    "                       max_depth=20, max_features='sqrt', max_leaf_nodes=None,\n",
    "                       min_impurity_decrease=0.0, min_impurity_split=None,\n",
    "                       min_samples_leaf=2, min_samples_split=5,\n",
    "                       min_weight_fraction_leaf=0.0, n_estimators=1200,\n",
    "                       n_jobs=None, oob_score=False, random_state=42, verbose=0,\n",
    "                       warm_start=False)\n",
    "\"\"\"\n",
    "                       \n",
    "best_params = {'n_estimators': 1200, 'min_samples_split': 5, 'min_samples_leaf': 2, 'max_features': 'sqrt', 'max_depth': 20, 'bootstrap': True}"
   ]
  },
  {
   "cell_type": "code",
   "execution_count": 51,
   "metadata": {
    "ExecuteTime": {
     "end_time": "2019-09-19T19:51:58.413623Z",
     "start_time": "2019-09-19T19:51:14.426630Z"
    }
   },
   "outputs": [
    {
     "data": {
      "text/plain": [
       "RandomForestClassifier(bootstrap=True, class_weight=None, criterion='gini',\n",
       "                       max_depth=20, max_features='sqrt', max_leaf_nodes=None,\n",
       "                       min_impurity_decrease=0.0, min_impurity_split=None,\n",
       "                       min_samples_leaf=2, min_samples_split=5,\n",
       "                       min_weight_fraction_leaf=0.0, n_estimators=1200,\n",
       "                       n_jobs=None, oob_score=False, random_state=42, verbose=0,\n",
       "                       warm_start=False)"
      ]
     },
     "execution_count": 51,
     "metadata": {},
     "output_type": "execute_result"
    }
   ],
   "source": [
    "rf_clf.fit(X_train, y_train)"
   ]
  },
  {
   "cell_type": "code",
   "execution_count": null,
   "metadata": {
    "ExecuteTime": {
     "end_time": "2019-09-19T19:49:00.094561Z",
     "start_time": "2019-09-19T19:46:05.767Z"
    }
   },
   "outputs": [],
   "source": [
    "cross_val_score(rf_clf, X, y)"
   ]
  },
  {
   "cell_type": "markdown",
   "metadata": {},
   "source": [
    "^^^ Better results after gridsearch"
   ]
  },
  {
   "cell_type": "code",
   "execution_count": null,
   "metadata": {
    "ExecuteTime": {
     "end_time": "2019-09-19T19:49:00.095561Z",
     "start_time": "2019-09-19T19:46:05.769Z"
    }
   },
   "outputs": [],
   "source": [
    "best_est_y_pred = rf_grid_search_best_estimator.predict(X_test)"
   ]
  },
  {
   "cell_type": "code",
   "execution_count": null,
   "metadata": {
    "ExecuteTime": {
     "end_time": "2019-09-19T19:49:00.096560Z",
     "start_time": "2019-09-19T19:46:05.770Z"
    }
   },
   "outputs": [],
   "source": [
    "confusion_matrix(y_test, best_est_y_pred)"
   ]
  }
 ],
 "metadata": {
  "hide_input": false,
  "kernelspec": {
   "display_name": "MaskRCNN",
   "language": "python",
   "name": "maskrcnn"
  },
  "language_info": {
   "codemirror_mode": {
    "name": "ipython",
    "version": 3
   },
   "file_extension": ".py",
   "mimetype": "text/x-python",
   "name": "python",
   "nbconvert_exporter": "python",
   "pygments_lexer": "ipython3",
   "version": "3.6.9"
  }
 },
 "nbformat": 4,
 "nbformat_minor": 2
}
